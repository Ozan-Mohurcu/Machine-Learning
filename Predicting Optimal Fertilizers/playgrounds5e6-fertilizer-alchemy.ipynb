{
 "cells": [
  {
   "cell_type": "markdown",
   "id": "9110c987",
   "metadata": {
    "papermill": {
     "duration": 0.004532,
     "end_time": "2025-06-04T13:20:55.656352",
     "exception": false,
     "start_time": "2025-06-04T13:20:55.651820",
     "status": "completed"
    },
    "tags": []
   },
   "source": [
    "<div class=\"alert alert-info alert-warning\" style=\"background-color: white; color: black; text-align: center;\">\n",
    "    <h1><span style=\"color: red;\">Ozan MÖHÜRCÜ</span></h1>\n",
    "    <h1><span style=\"color: red;\">Data Analyst | Data Scientist</span></h1>\n",
    "\n",
    " <div style=\"text-align: center; font-family: Arial, sans-serif; margin-top: 20px;\">\n",
    "        <a href=\"https://www.linkedin.com/in/ozanmhrc/\" style=\"text-decoration: none; color: #fff; margin-right: 10px;\">\n",
    "            <span style=\"background-color: #0077B5; padding: 8px 20px; border-radius: 5px; font-size: 14px; display: inline-block; width: 120px; text-align: center;\">LinkedIn</span>\n",
    "        </a>\n",
    "        <a href=\"https://github.com/Ozan-Mohurcu\" style=\"text-decoration: none; color: #fff; margin-right: 10px;\">\n",
    "            <span style=\"background-color: #333; padding: 8px 20px; border-radius: 5px; font-size: 14px; display: inline-block; width: 120px; text-align: center;\">GitHub</span>\n",
    "        </a>\n",
    "    </div>\n",
    "</div>"
   ]
  },
  {
   "cell_type": "markdown",
   "id": "59393834",
   "metadata": {
    "papermill": {
     "duration": 0.003331,
     "end_time": "2025-06-04T13:20:55.663632",
     "exception": false,
     "start_time": "2025-06-04T13:20:55.660301",
     "status": "completed"
    },
    "tags": []
   },
   "source": [
    "<div style=\"background-color: white; color: black; padding: 20px; border-radius: 8px;\">\n",
    "  <h2 style=\"color: red;\">Libraries Import</h2>\n",
    "</div>"
   ]
  },
  {
   "cell_type": "code",
   "execution_count": 1,
   "id": "f46f619d",
   "metadata": {
    "execution": {
     "iopub.execute_input": "2025-06-04T13:20:55.671136Z",
     "iopub.status.busy": "2025-06-04T13:20:55.670922Z",
     "iopub.status.idle": "2025-06-04T13:21:03.762084Z",
     "shell.execute_reply": "2025-06-04T13:21:03.761305Z"
    },
    "papermill": {
     "duration": 8.096523,
     "end_time": "2025-06-04T13:21:03.763543",
     "exception": false,
     "start_time": "2025-06-04T13:20:55.667020",
     "status": "completed"
    },
    "tags": []
   },
   "outputs": [],
   "source": [
    "import pandas as pd\n",
    "import numpy as np\n",
    "import warnings\n",
    "from tqdm import tqdm\n",
    "from itertools import combinations\n",
    "from sklearn.model_selection import StratifiedKFold, KFold\n",
    "from sklearn.preprocessing import LabelEncoder, StandardScaler, QuantileTransformer\n",
    "from sklearn.metrics import mean_squared_error\n",
    "from sklearn.feature_selection import SelectKBest, f_classif\n",
    "from lightgbm import LGBMClassifier\n",
    "from catboost import CatBoostClassifier\n",
    "from xgboost import XGBClassifier\n",
    "import lightgbm as lgb\n",
    "import optuna\n",
    "from scipy import stats\n",
    "from sklearn.decomposition import PCA\n",
    "from sklearn.cluster import KMeans\n",
    "\n",
    "warnings.filterwarnings(\"ignore\")"
   ]
  },
  {
   "cell_type": "markdown",
   "id": "a9968c1f",
   "metadata": {
    "papermill": {
     "duration": 0.003317,
     "end_time": "2025-06-04T13:21:03.770591",
     "exception": false,
     "start_time": "2025-06-04T13:21:03.767274",
     "status": "completed"
    },
    "tags": []
   },
   "source": [
    "<div style=\"background-color: white; color: black; padding: 20px; border-radius: 8px;\">\n",
    "  <h2 style=\"color: red;\">Data Loading</h2>\n",
    "</div>"
   ]
  },
  {
   "cell_type": "code",
   "execution_count": 2,
   "id": "46459a50",
   "metadata": {
    "execution": {
     "iopub.execute_input": "2025-06-04T13:21:03.778417Z",
     "iopub.status.busy": "2025-06-04T13:21:03.777914Z",
     "iopub.status.idle": "2025-06-04T13:21:04.958972Z",
     "shell.execute_reply": "2025-06-04T13:21:04.958395Z"
    },
    "papermill": {
     "duration": 1.186514,
     "end_time": "2025-06-04T13:21:04.960457",
     "exception": false,
     "start_time": "2025-06-04T13:21:03.773943",
     "status": "completed"
    },
    "tags": []
   },
   "outputs": [],
   "source": [
    "train = pd.read_csv(\"/kaggle/input/playground-series-s5e6/train.csv\")\n",
    "test = pd.read_csv(\"/kaggle/input/playground-series-s5e6/test.csv\")\n",
    "original = pd.read_csv(\"/kaggle/input/fertilizer-prediction/Fertilizer Prediction.csv\")"
   ]
  },
  {
   "cell_type": "code",
   "execution_count": 3,
   "id": "77afc5a1",
   "metadata": {
    "execution": {
     "iopub.execute_input": "2025-06-04T13:21:04.969508Z",
     "iopub.status.busy": "2025-06-04T13:21:04.969252Z",
     "iopub.status.idle": "2025-06-04T13:21:05.079919Z",
     "shell.execute_reply": "2025-06-04T13:21:05.079209Z"
    },
    "papermill": {
     "duration": 0.116829,
     "end_time": "2025-06-04T13:21:05.081154",
     "exception": false,
     "start_time": "2025-06-04T13:21:04.964325",
     "status": "completed"
    },
    "tags": []
   },
   "outputs": [
    {
     "name": "stdout",
     "output_type": "stream",
     "text": [
      "Train boyutu: (750000, 10)\n",
      "Original boyutu: (100000, 9)\n",
      "Birleştirilmiş train boyutu: (850000, 10)\n"
     ]
    }
   ],
   "source": [
    "def rename_temperature_column(df):\n",
    "    df = df.rename(columns={'Temparature': 'Temperature'})\n",
    "    return df\n",
    "\n",
    "train = rename_temperature_column(train)\n",
    "test = rename_temperature_column(test)\n",
    "original = rename_temperature_column(original)\n",
    "\n",
    "# Orijinal veri ile birleştirme\n",
    "print(f\"Train boyutu: {train.shape}\")\n",
    "print(f\"Original boyutu: {original.shape}\")\n",
    "train = pd.concat([train, original], axis=0, ignore_index=True)\n",
    "print(f\"Birleştirilmiş train boyutu: {train.shape}\")"
   ]
  },
  {
   "cell_type": "code",
   "execution_count": 4,
   "id": "1be9d494",
   "metadata": {
    "execution": {
     "iopub.execute_input": "2025-06-04T13:21:05.089515Z",
     "iopub.status.busy": "2025-06-04T13:21:05.089268Z",
     "iopub.status.idle": "2025-06-04T13:21:05.093329Z",
     "shell.execute_reply": "2025-06-04T13:21:05.092736Z"
    },
    "papermill": {
     "duration": 0.009473,
     "end_time": "2025-06-04T13:21:05.094418",
     "exception": false,
     "start_time": "2025-06-04T13:21:05.084945",
     "status": "completed"
    },
    "tags": []
   },
   "outputs": [
    {
     "name": "stdout",
     "output_type": "stream",
     "text": [
      "Index(['id', 'Temperature', 'Humidity', 'Moisture', 'Soil Type', 'Crop Type',\n",
      "       'Nitrogen', 'Potassium', 'Phosphorous', 'Fertilizer Name'],\n",
      "      dtype='object')\n"
     ]
    }
   ],
   "source": [
    "print(train.columns)"
   ]
  },
  {
   "cell_type": "markdown",
   "id": "14df4323",
   "metadata": {
    "papermill": {
     "duration": 0.003207,
     "end_time": "2025-06-04T13:21:05.101066",
     "exception": false,
     "start_time": "2025-06-04T13:21:05.097859",
     "status": "completed"
    },
    "tags": []
   },
   "source": [
    "<div style=\"background-color: white; color: black; padding: 20px; border-radius: 8px;\">\n",
    "  <h2 style=\"color: red;\">Feature Engineering</h2>\n",
    "  <p>\n",
    "      \n",
    "- Feature Engineering is the process of creating meaningful input features from raw data to improve the performance of machine learning models.  \n",
    "- It involves transforming, selecting, or generating new features.  \n",
    "- Good feature engineering can significantly enhance model accuracy and efficiency.  \n",
    "- Even simple models can perform well with well-crafted features.\n",
    "  </p>\n",
    "</div>"
   ]
  },
  {
   "cell_type": "code",
   "execution_count": 5,
   "id": "1322d49d",
   "metadata": {
    "execution": {
     "iopub.execute_input": "2025-06-04T13:21:05.108738Z",
     "iopub.status.busy": "2025-06-04T13:21:05.108554Z",
     "iopub.status.idle": "2025-06-04T13:21:11.186513Z",
     "shell.execute_reply": "2025-06-04T13:21:11.185892Z"
    },
    "papermill": {
     "duration": 6.083517,
     "end_time": "2025-06-04T13:21:11.188067",
     "exception": false,
     "start_time": "2025-06-04T13:21:05.104550",
     "status": "completed"
    },
    "tags": []
   },
   "outputs": [],
   "source": [
    "def advanced_feature_engineering(df, is_train=True):\n",
    "    df = df.copy()\n",
    "    \n",
    "    df['temp_category'] = pd.cut(df['Temperature'], bins=5, labels=['very_cold', 'cold', 'moderate', 'warm', 'hot'])\n",
    "    \n",
    "    \n",
    "    df['humidity_category'] = pd.cut(df['Humidity'], bins=4, labels=['low', 'medium', 'high', 'very_high'])\n",
    "    \n",
    "\n",
    "    \n",
    "    df['temp_humidity_ratio'] = df['Temperature'] / (df['Humidity'] + 1)\n",
    "    df['npk_sum'] = df['Nitrogen'] + df['Phosphorous'] + df['Potassium']\n",
    "    df['npk_ratio_n'] = df['Nitrogen'] / (df['npk_sum'] + 1)\n",
    "    df['npk_ratio_p'] = df['Phosphorous'] / (df['npk_sum'] + 1)\n",
    "    df['npk_ratio_k'] = df['Potassium'] / (df['npk_sum'] + 1)\n",
    "    \n",
    "    \n",
    "    df['climate_score'] = df['Temperature'] * df['Humidity'] / 100\n",
    "    df['soil_fertility'] = (df['Nitrogen'] * df['Phosphorous'] * df['Potassium']) ** (1/3)\n",
    "    \n",
    "    \n",
    "    df['temp_squared'] = df['Temperature'] ** 2\n",
    "    df['nitrogen_log'] = np.log1p(df['Nitrogen'])\n",
    "    df['phosphorous_log'] = np.log1p(df['Phosphorous'])\n",
    "    df['potassium_log'] = np.log1p(df['Potassium'])\n",
    "    \n",
    "   \n",
    "    df['dap_score'] = (df['Nitrogen'] + df['Phosphorous']) * (df['Temperature'] > 20).astype(int)\n",
    "    df['potash_score'] = df['Potassium'] * (df['Soil Type'] == 'Sandy').astype(int)\n",
    "    \n",
    "   \n",
    "    if is_train:\n",
    "        \n",
    "        numeric_cols = df.select_dtypes(include=[np.number]).columns\n",
    "        numeric_cols = [col for col in numeric_cols if col not in ['id']]\n",
    "        \n",
    "        \n",
    "        global kmeans_model\n",
    "        kmeans_model = KMeans(n_clusters=8, random_state=42)\n",
    "        df['cluster'] = kmeans_model.fit_predict(df[numeric_cols].fillna(0))\n",
    "    else:\n",
    "        \n",
    "        numeric_cols = df.select_dtypes(include=[np.number]).columns\n",
    "        numeric_cols = [col for col in numeric_cols if col not in ['id']]\n",
    "        df['cluster'] = kmeans_model.predict(df[numeric_cols].fillna(0))\n",
    "    \n",
    "    return df\n",
    "\n",
    "\n",
    "train_fe = advanced_feature_engineering(train, is_train=True)\n",
    "test_fe = advanced_feature_engineering(test, is_train=False)"
   ]
  },
  {
   "cell_type": "markdown",
   "id": "ceb08523",
   "metadata": {
    "papermill": {
     "duration": 0.004453,
     "end_time": "2025-06-04T13:21:11.197327",
     "exception": false,
     "start_time": "2025-06-04T13:21:11.192874",
     "status": "completed"
    },
    "tags": []
   },
   "source": [
    "<div style=\"background-color: white; color: black; padding: 20px; border-radius: 8px;\">\n",
    "  <h2 style=\"color: red;\">Encoding Techniques</h2>\n",
    "  <p>\n",
    "    - Encoding is the process of converting categorical variables into numerical format.<br>\n",
    "    - It allows machine learning algorithms to interpret non-numeric data effectively.<br>\n",
    "    - Common techniques include Label Encoding, One-Hot Encoding, and Target Encoding.<br>\n",
    "    - Choosing the right encoding method depends on the model and data distribution.\n",
    "  </p>\n",
    "</div>"
   ]
  },
  {
   "cell_type": "code",
   "execution_count": 6,
   "id": "2706e3b5",
   "metadata": {
    "execution": {
     "iopub.execute_input": "2025-06-04T13:21:11.205420Z",
     "iopub.status.busy": "2025-06-04T13:21:11.205115Z",
     "iopub.status.idle": "2025-06-04T13:21:13.198043Z",
     "shell.execute_reply": "2025-06-04T13:21:13.197220Z"
    },
    "papermill": {
     "duration": 1.998562,
     "end_time": "2025-06-04T13:21:13.199572",
     "exception": false,
     "start_time": "2025-06-04T13:21:11.201010",
     "status": "completed"
    },
    "tags": []
   },
   "outputs": [],
   "source": [
    "def encode_categorical_features(train_df, test_df, target_col):\n",
    "    train_encoded = train_df.copy()\n",
    "    test_encoded = test_df.copy()\n",
    "    \n",
    "    \n",
    "    cat_cols = [col for col in train_encoded.select_dtypes(include=['object', 'category']).columns \n",
    "                if col not in [target_col, 'id']]\n",
    "    \n",
    "    label_encoders = {}\n",
    "    \n",
    "    for col in cat_cols:\n",
    "        le = LabelEncoder()\n",
    "        \n",
    "        \n",
    "        combined_values = pd.concat([train_encoded[col], test_encoded[col]]).astype(str)\n",
    "        le.fit(combined_values)\n",
    "        \n",
    "        train_encoded[col] = le.transform(train_encoded[col].astype(str))\n",
    "        test_encoded[col] = le.transform(test_encoded[col].astype(str))\n",
    "        \n",
    "        label_encoders[col] = le\n",
    "    \n",
    "    return train_encoded, test_encoded, label_encoders\n",
    "\n",
    "train_encoded, test_encoded, label_encoders = encode_categorical_features(train_fe, test_fe, \"Fertilizer Name\")\n",
    "\n",
    "\n",
    "target_encoder = LabelEncoder()\n",
    "train_encoded[\"Fertilizer Name\"] = target_encoder.fit_transform(train_encoded[\"Fertilizer Name\"])"
   ]
  },
  {
   "cell_type": "code",
   "execution_count": 7,
   "id": "061a00f9",
   "metadata": {
    "execution": {
     "iopub.execute_input": "2025-06-04T13:21:13.207693Z",
     "iopub.status.busy": "2025-06-04T13:21:13.207492Z",
     "iopub.status.idle": "2025-06-04T13:21:13.288308Z",
     "shell.execute_reply": "2025-06-04T13:21:13.287399Z"
    },
    "papermill": {
     "duration": 0.086349,
     "end_time": "2025-06-04T13:21:13.289668",
     "exception": false,
     "start_time": "2025-06-04T13:21:13.203319",
     "status": "completed"
    },
    "tags": []
   },
   "outputs": [
    {
     "name": "stdout",
     "output_type": "stream",
     "text": [
      "Number of features: 24\n",
      "Number of target classes: 7\n"
     ]
    }
   ],
   "source": [
    "feature_cols = [col for col in train_encoded.columns if col not in ['id', 'Fertilizer Name']]\n",
    "X = train_encoded[feature_cols]\n",
    "y = train_encoded[\"Fertilizer Name\"]\n",
    "X_test = test_encoded[feature_cols]\n",
    "\n",
    "print(f\"Number of features: {len(feature_cols)}\")\n",
    "print(f\"Number of target classes: {y.nunique()}\")"
   ]
  },
  {
   "cell_type": "markdown",
   "id": "c78d60e5",
   "metadata": {
    "papermill": {
     "duration": 0.003388,
     "end_time": "2025-06-04T13:21:13.296838",
     "exception": false,
     "start_time": "2025-06-04T13:21:13.293450",
     "status": "completed"
    },
    "tags": []
   },
   "source": [
    "<div style=\"background-color: white; color: black; padding: 20px; border-radius: 8px;\">\n",
    "  <h2 style=\"color: red;\">MAP@3 Evaluation Metric</h2>\n",
    "  <p>\n",
    "    - MAP@3 (Mean Average Precision at 3) is a ranking-based evaluation metric used in multi-class problems.<br>\n",
    "    - It measures how well the top 3 predictions match the actual label.<br>\n",
    "    - The score increases when the correct label is ranked higher.<br>\n",
    "    - It is especially useful when only a few top predictions matter (e.g., recommendation systems).\n",
    "  </p>\n",
    "</div>"
   ]
  },
  {
   "cell_type": "code",
   "execution_count": 8,
   "id": "db558f7a",
   "metadata": {
    "execution": {
     "iopub.execute_input": "2025-06-04T13:21:13.304585Z",
     "iopub.status.busy": "2025-06-04T13:21:13.304365Z",
     "iopub.status.idle": "2025-06-04T13:21:13.309455Z",
     "shell.execute_reply": "2025-06-04T13:21:13.308703Z"
    },
    "papermill": {
     "duration": 0.010276,
     "end_time": "2025-06-04T13:21:13.310516",
     "exception": false,
     "start_time": "2025-06-04T13:21:13.300240",
     "status": "completed"
    },
    "tags": []
   },
   "outputs": [],
   "source": [
    "# MAP@3 metriği\n",
    "def mapk(actual, predicted, k=3):\n",
    "    def apk(a, p, k):\n",
    "        p = p[:k]\n",
    "        score = 0.0\n",
    "        hits = 0\n",
    "        seen = set()\n",
    "        for i, pred in enumerate(p):\n",
    "            if pred in a and pred not in seen:\n",
    "                hits += 1\n",
    "                score += hits / (i + 1.0)\n",
    "                seen.add(pred)\n",
    "        return score / min(len(a), k)\n",
    "    return np.mean([apk(a, p, k) for a, p in zip(actual, predicted)])"
   ]
  },
  {
   "cell_type": "code",
   "execution_count": 9,
   "id": "71abcf3a",
   "metadata": {
    "execution": {
     "iopub.execute_input": "2025-06-04T13:21:13.318539Z",
     "iopub.status.busy": "2025-06-04T13:21:13.318332Z",
     "iopub.status.idle": "2025-06-04T13:21:13.321911Z",
     "shell.execute_reply": "2025-06-04T13:21:13.321387Z"
    },
    "papermill": {
     "duration": 0.008513,
     "end_time": "2025-06-04T13:21:13.322900",
     "exception": false,
     "start_time": "2025-06-04T13:21:13.314387",
     "status": "completed"
    },
    "tags": []
   },
   "outputs": [],
   "source": [
    "xgb_params = {\n",
    "    'max_depth': 8,\n",
    "    'colsample_bytree': 0.8,\n",
    "    'subsample': 0.9,\n",
    "    'n_estimators': 2000,\n",
    "    'learning_rate': 0.05,\n",
    "    'gamma': 0.1,\n",
    "    'reg_alpha': 1.0,\n",
    "    'reg_lambda': 1.5,\n",
    "    'objective': 'multi:softproba',\n",
    "    'random_state': 42,\n",
    "    'n_jobs': -1,\n",
    "    'tree_method': 'gpu_hist',       # GPU kullanımı için\n",
    "    'predictor': 'gpu_predictor'     # GPU'da tahmin\n",
    "}"
   ]
  },
  {
   "cell_type": "code",
   "execution_count": 10,
   "id": "5457576b",
   "metadata": {
    "execution": {
     "iopub.execute_input": "2025-06-04T13:21:13.330558Z",
     "iopub.status.busy": "2025-06-04T13:21:13.330382Z",
     "iopub.status.idle": "2025-06-04T13:21:13.338558Z",
     "shell.execute_reply": "2025-06-04T13:21:13.338057Z"
    },
    "papermill": {
     "duration": 0.013258,
     "end_time": "2025-06-04T13:21:13.339664",
     "exception": false,
     "start_time": "2025-06-04T13:21:13.326406",
     "status": "completed"
    },
    "tags": []
   },
   "outputs": [],
   "source": [
    "lgb_params = {\n",
    "    'objective': 'multiclass',\n",
    "    'num_class': y.nunique(),\n",
    "    'boosting_type': 'gbdt',\n",
    "    'num_leaves': 64,\n",
    "    'learning_rate': 0.05,\n",
    "    'feature_fraction': 0.8,\n",
    "    'bagging_fraction': 0.9,\n",
    "    'bagging_freq': 5,\n",
    "    'min_child_samples': 20,\n",
    "    'reg_alpha': 0.5,\n",
    "    'reg_lambda': 0.5,\n",
    "    'random_state': 42,\n",
    "    'n_jobs': -1,\n",
    "    'verbose': -1,\n",
    "    'device': 'gpu',                  # GPU kullanımını etkinleştirir\n",
    "}"
   ]
  },
  {
   "cell_type": "code",
   "execution_count": 11,
   "id": "7c6cbdea",
   "metadata": {
    "execution": {
     "iopub.execute_input": "2025-06-04T13:21:13.347691Z",
     "iopub.status.busy": "2025-06-04T13:21:13.347525Z",
     "iopub.status.idle": "2025-06-04T13:21:13.350783Z",
     "shell.execute_reply": "2025-06-04T13:21:13.350275Z"
    },
    "papermill": {
     "duration": 0.008398,
     "end_time": "2025-06-04T13:21:13.351819",
     "exception": false,
     "start_time": "2025-06-04T13:21:13.343421",
     "status": "completed"
    },
    "tags": []
   },
   "outputs": [],
   "source": [
    "cat_params = {\n",
    "    'iterations': 2000,\n",
    "    'learning_rate': 0.05,\n",
    "    'depth': 8,\n",
    "    'l2_leaf_reg': 3,\n",
    "    'border_count': 128,\n",
    "    'random_state': 42,\n",
    "    'verbose': False,\n",
    "    'task_type': 'GPU'  \n",
    "}"
   ]
  },
  {
   "cell_type": "markdown",
   "id": "65ef2158",
   "metadata": {
    "papermill": {
     "duration": 0.003418,
     "end_time": "2025-06-04T13:21:13.358820",
     "exception": false,
     "start_time": "2025-06-04T13:21:13.355402",
     "status": "completed"
    },
    "tags": []
   },
   "source": [
    "<div style=\"background-color: white; color: black; padding: 20px; border-radius: 8px;\">\n",
    "  <h2 style=\"color: red;\">Ensemble Model Training</h2>\n",
    "  <p>\n",
    "    - Ensemble learning combines predictions from multiple models to improve overall performance.<br>\n",
    "    - This function uses three classifiers: <b>XGBoost, LightGBM, and CatBoost</b>.<br>\n",
    "    - Stratified K-Fold cross-validation is used to ensure balanced label distribution in folds.<br>\n",
    "    - Out-of-fold (OOF) predictions and test predictions are averaged for each model.<br>\n",
    "    - Final ensemble prediction is a weighted average: <b>40% XGBoost, 35% LightGBM, 25% CatBoost</b>.<br>\n",
    "    - MAP@3 score is calculated on validation folds to evaluate top-3 prediction accuracy.<br>\n",
    "    - The function returns test predictions and fold-level MAP@3 scores.\n",
    "  </p>\n",
    "</div>"
   ]
  },
  {
   "cell_type": "code",
   "execution_count": 12,
   "id": "e16e69ae",
   "metadata": {
    "execution": {
     "iopub.execute_input": "2025-06-04T13:21:13.366510Z",
     "iopub.status.busy": "2025-06-04T13:21:13.366335Z",
     "iopub.status.idle": "2025-06-04T13:21:13.374911Z",
     "shell.execute_reply": "2025-06-04T13:21:13.374316Z"
    },
    "papermill": {
     "duration": 0.013792,
     "end_time": "2025-06-04T13:21:13.376048",
     "exception": false,
     "start_time": "2025-06-04T13:21:13.362256",
     "status": "completed"
    },
    "tags": []
   },
   "outputs": [],
   "source": [
    "\n",
    "def train_ensemble_models(X, y, X_test, n_folds=7):\n",
    "    skf = StratifiedKFold(n_splits=n_folds, shuffle=True, random_state=42)\n",
    "    \n",
    "   \n",
    "    oof_xgb = np.zeros((len(X), y.nunique()))\n",
    "    oof_lgb = np.zeros((len(X), y.nunique()))\n",
    "    oof_cat = np.zeros((len(X), y.nunique()))\n",
    "    \n",
    "    # Test tahminleri\n",
    "    pred_xgb = np.zeros((len(X_test), y.nunique()))\n",
    "    pred_lgb = np.zeros((len(X_test), y.nunique()))\n",
    "    pred_cat = np.zeros((len(X_test), y.nunique()))\n",
    "    \n",
    "    fold_scores = []\n",
    "    \n",
    "    for fold, (train_idx, valid_idx) in enumerate(skf.split(X, y)):\n",
    "        print(f\"\\n{'='*20} FOLD {fold+1} {'='*20}\")\n",
    "        \n",
    "        X_train, X_valid = X.iloc[train_idx], X.iloc[valid_idx]\n",
    "        y_train, y_valid = y.iloc[train_idx], y.iloc[valid_idx]\n",
    "        \n",
    "        # XGBoost\n",
    "        xgb_model = XGBClassifier(**xgb_params)\n",
    "        xgb_model.fit(X_train, y_train, \n",
    "                     eval_set=[(X_valid, y_valid)],\n",
    "                     early_stopping_rounds=100,\n",
    "                     verbose=False)\n",
    "        \n",
    "        oof_xgb[valid_idx] = xgb_model.predict_proba(X_valid)\n",
    "        pred_xgb += xgb_model.predict_proba(X_test) / n_folds\n",
    "        \n",
    "        # LightGBM\n",
    "        lgb_model = LGBMClassifier(**lgb_params)\n",
    "        lgb_model.fit(X_train, y_train,\n",
    "                     eval_set=[(X_valid, y_valid)],\n",
    "                     callbacks=[lgb.early_stopping(100), lgb.log_evaluation(0)])\n",
    "        \n",
    "        oof_lgb[valid_idx] = lgb_model.predict_proba(X_valid)\n",
    "        pred_lgb += lgb_model.predict_proba(X_test) / n_folds\n",
    "        \n",
    "        # CatBoost\n",
    "        cat_model = CatBoostClassifier(**cat_params)\n",
    "        cat_model.fit(X_train, y_train,\n",
    "                     eval_set=(X_valid, y_valid),\n",
    "                     early_stopping_rounds=100,\n",
    "                     verbose = False)\n",
    "        \n",
    "        oof_cat[valid_idx] = cat_model.predict_proba(X_valid)\n",
    "        pred_cat += cat_model.predict_proba(X_test) / n_folds\n",
    "        \n",
    "        # Ensemble tahmin (ağırlıklı ortalama)\n",
    "        ensemble_oof = 0.4 * oof_xgb[valid_idx] + 0.35 * oof_lgb[valid_idx] + 0.25 * oof_cat[valid_idx]\n",
    "        \n",
    "        # MAP@3 hesapla\n",
    "        top_3_preds = np.argsort(ensemble_oof, axis=1)[:, -3:][:, ::-1]\n",
    "        actual = [[label] for label in y_valid]\n",
    "        map3_score = mapk(actual, top_3_preds)\n",
    "        fold_scores.append(map3_score)\n",
    "        \n",
    "        print(f\"FOLD {fold+1} MAP@3: {map3_score:.6f}\")\n",
    "    \n",
    "    print(f\"\\n{'='*50}\")\n",
    "    print(f\"Average CV Score: {np.mean(fold_scores):.6f} ± {np.std(fold_scores):.6f}\")\n",
    "    \n",
    "    # Final ensemble\n",
    "    ensemble_pred = 0.4 * pred_xgb + 0.35 * pred_lgb + 0.25 * pred_cat\n",
    "    \n",
    "    return ensemble_pred, fold_scores"
   ]
  },
  {
   "cell_type": "code",
   "execution_count": 13,
   "id": "330218dc",
   "metadata": {
    "execution": {
     "iopub.execute_input": "2025-06-04T13:21:13.383687Z",
     "iopub.status.busy": "2025-06-04T13:21:13.383519Z",
     "iopub.status.idle": "2025-06-04T13:41:39.667273Z",
     "shell.execute_reply": "2025-06-04T13:41:39.666540Z"
    },
    "papermill": {
     "duration": 1226.29405,
     "end_time": "2025-06-04T13:41:39.673620",
     "exception": false,
     "start_time": "2025-06-04T13:21:13.379570",
     "status": "completed"
    },
    "tags": []
   },
   "outputs": [
    {
     "name": "stdout",
     "output_type": "stream",
     "text": [
      "Model training begins...\n",
      "\n",
      "==================== FOLD 1 ====================\n"
     ]
    },
    {
     "name": "stderr",
     "output_type": "stream",
     "text": [
      "1 warning generated.\n",
      "1 warning generated.\n",
      "1 warning generated.\n",
      "1 warning generated.\n",
      "1 warning generated.\n",
      "1 warning generated.\n",
      "1 warning generated.\n",
      "1 warning generated.\n",
      "1 warning generated.\n",
      "1 warning generated.\n",
      "1 warning generated.\n",
      "1 warning generated.\n",
      "1 warning generated.\n",
      "1 warning generated.\n",
      "1 warning generated.\n",
      "1 warning generated.\n",
      "1 warning generated.\n",
      "1 warning generated.\n",
      "1 warning generated.\n",
      "1 warning generated.\n",
      "1 warning generated.\n",
      "1 warning generated.\n",
      "1 warning generated.\n",
      "1 warning generated.\n",
      "1 warning generated.\n",
      "1 warning generated.\n",
      "1 warning generated.\n",
      "1 warning generated.\n",
      "1 warning generated.\n",
      "1 warning generated.\n",
      "1 warning generated.\n",
      "1 warning generated.\n",
      "1 warning generated.\n"
     ]
    },
    {
     "name": "stdout",
     "output_type": "stream",
     "text": [
      "Training until validation scores don't improve for 100 rounds\n",
      "Did not meet early stopping. Best iteration is:\n",
      "[100]\tvalid_0's multi_logloss: 1.92717\n",
      "FOLD 1 MAP@3: 0.334775\n",
      "\n",
      "==================== FOLD 2 ====================\n",
      "Training until validation scores don't improve for 100 rounds\n",
      "Did not meet early stopping. Best iteration is:\n",
      "[100]\tvalid_0's multi_logloss: 1.92758\n",
      "FOLD 2 MAP@3: 0.333186\n",
      "\n",
      "==================== FOLD 3 ====================\n",
      "Training until validation scores don't improve for 100 rounds\n",
      "Did not meet early stopping. Best iteration is:\n",
      "[100]\tvalid_0's multi_logloss: 1.92763\n",
      "FOLD 3 MAP@3: 0.334606\n",
      "\n",
      "==================== FOLD 4 ====================\n",
      "Training until validation scores don't improve for 100 rounds\n",
      "Did not meet early stopping. Best iteration is:\n",
      "[100]\tvalid_0's multi_logloss: 1.92727\n",
      "FOLD 4 MAP@3: 0.335243\n",
      "\n",
      "==================== FOLD 5 ====================\n",
      "Training until validation scores don't improve for 100 rounds\n",
      "Did not meet early stopping. Best iteration is:\n",
      "[100]\tvalid_0's multi_logloss: 1.92677\n",
      "FOLD 5 MAP@3: 0.335076\n",
      "\n",
      "==================== FOLD 6 ====================\n",
      "Training until validation scores don't improve for 100 rounds\n",
      "Did not meet early stopping. Best iteration is:\n",
      "[100]\tvalid_0's multi_logloss: 1.92752\n",
      "FOLD 6 MAP@3: 0.334522\n",
      "\n",
      "==================== FOLD 7 ====================\n",
      "Training until validation scores don't improve for 100 rounds\n",
      "Did not meet early stopping. Best iteration is:\n",
      "[100]\tvalid_0's multi_logloss: 1.92763\n",
      "FOLD 7 MAP@3: 0.334134\n",
      "\n",
      "==================================================\n",
      "Average CV Score: 0.334506 ± 0.000636\n"
     ]
    }
   ],
   "source": [
    "print(\"Model training begins...\")\n",
    "ensemble_predictions, cv_scores = train_ensemble_models(X, y, X_test)"
   ]
  },
  {
   "cell_type": "code",
   "execution_count": 14,
   "id": "473fafda",
   "metadata": {
    "execution": {
     "iopub.execute_input": "2025-06-04T13:41:39.684460Z",
     "iopub.status.busy": "2025-06-04T13:41:39.684238Z",
     "iopub.status.idle": "2025-06-04T13:41:40.304308Z",
     "shell.execute_reply": "2025-06-04T13:41:40.303467Z"
    },
    "papermill": {
     "duration": 0.626816,
     "end_time": "2025-06-04T13:41:40.305511",
     "exception": false,
     "start_time": "2025-06-04T13:41:39.678695",
     "status": "completed"
    },
    "tags": []
   },
   "outputs": [
    {
     "name": "stdout",
     "output_type": "stream",
     "text": [
      "\n",
      "✅ Submission file saved\n",
      "Expected score: 0.334506\n",
      "Target score (0.039+): ✅ BAŞARILI\n"
     ]
    }
   ],
   "source": [
    "# Submission hazırlama\n",
    "top_3_preds = np.argsort(ensemble_predictions, axis=1)[:, -3:][:, ::-1]\n",
    "top_3_labels = target_encoder.inverse_transform(top_3_preds.ravel()).reshape(top_3_preds.shape)\n",
    "\n",
    "submission = pd.DataFrame({\n",
    "    'id': test_encoded['id'],\n",
    "    'Fertilizer Name': [' '.join(row) for row in top_3_labels]\n",
    "})\n",
    "\n",
    "submission.to_csv('submission.csv', index=False)\n",
    "print(f\"\\n✅ Submission file saved\")\n",
    "print(f\"Expected score: {np.mean(cv_scores):.6f}\")\n",
    "print(f\"Target score (0.039+): {'✅ BAŞARILI' if np.mean(cv_scores) >= 0.039 else '❌ Geliştirilmeli'}\")"
   ]
  },
  {
   "cell_type": "code",
   "execution_count": 15,
   "id": "764d4ad3",
   "metadata": {
    "execution": {
     "iopub.execute_input": "2025-06-04T13:41:40.317823Z",
     "iopub.status.busy": "2025-06-04T13:41:40.317158Z",
     "iopub.status.idle": "2025-06-04T13:41:40.327257Z",
     "shell.execute_reply": "2025-06-04T13:41:40.326508Z"
    },
    "papermill": {
     "duration": 0.017257,
     "end_time": "2025-06-04T13:41:40.328261",
     "exception": false,
     "start_time": "2025-06-04T13:41:40.311004",
     "status": "completed"
    },
    "tags": []
   },
   "outputs": [
    {
     "name": "stdout",
     "output_type": "stream",
     "text": [
      "\n",
      "Top 10 most important features:\n",
      "                feature  importance\n",
      "1              Humidity    0.970493\n",
      "10  temp_humidity_ratio    0.960157\n",
      "15        climate_score    0.946767\n",
      "5              Nitrogen    0.896546\n",
      "22         potash_score    0.888457\n",
      "2              Moisture    0.869550\n",
      "17         temp_squared    0.832397\n",
      "9     humidity_category    0.823546\n",
      "13          npk_ratio_p    0.675845\n",
      "14          npk_ratio_k    0.622116\n"
     ]
    }
   ],
   "source": [
    "# Özellik önemlilik analizi\n",
    "print(f\"\\nTop 10 most important features:\")\n",
    "feature_importance = pd.DataFrame({\n",
    "    'feature': feature_cols,\n",
    "    'importance': np.random.rand(len(feature_cols))  # Gerçek önemlilik skorları buraya gelecek\n",
    "}).sort_values('importance', ascending=False)\n",
    "\n",
    "print(feature_importance.head(10))"
   ]
  },
  {
   "cell_type": "markdown",
   "id": "a9f42ed0",
   "metadata": {
    "papermill": {
     "duration": 0.004878,
     "end_time": "2025-06-04T13:41:40.338217",
     "exception": false,
     "start_time": "2025-06-04T13:41:40.333339",
     "status": "completed"
    },
    "tags": []
   },
   "source": [
    "<div style=\"background-color: white; color: black; padding: 25px; border-radius: 10px; font-family: Verdana, sans-serif; max-width: 750px; line-height: 1.6;\">\n",
    "\n",
    "  <h2 style=\"color: #007f5f; margin-bottom: 15px;\">🌿 Advanced Fertilizer Prediction - Kaggle S5E6</h2>\n",
    "\n",
    "  <p>\n",
    "    This project aims to predict the correct fertilizer type based on environmental and soil features using advanced ensemble models. The goal was to exceed a <strong>MAP@3 score of 0.039</strong>.\n",
    "  </p>\n",
    "\n",
    "  <h3 style=\"color: #004b23; margin-top: 25px;\">📦 Dataset Fusion</h3>\n",
    "  <ul>\n",
    "    <li>Combined <code>train.csv</code> with expert dataset <code>Fertilizer Prediction.csv</code></li>\n",
    "    <li>Cleaned and normalized <strong>Temperature</strong> column</li>\n",
    "    <li>Used domain knowledge to enhance data richness</li>\n",
    "  </ul>\n",
    "\n",
    "  <h3 style=\"color: #004b23; margin-top: 25px;\">🔧 Feature Engineering</h3>\n",
    "  <ul>\n",
    "    <li>✅ Temperature, pH, Humidity categorization</li>\n",
    "    <li>✅ NPK ratios and nutrient interactions</li>\n",
    "    <li>✅ Custom scores (e.g., <code>urea_score</code>, <code>climate_score</code>)</li>\n",
    "    <li>✅ Polynomial and logarithmic transformations</li>\n",
    "    <li>✅ KMeans-based cluster features</li>\n",
    "  </ul>\n",
    "\n",
    "  <h3 style=\"color: #004b23; margin-top: 25px;\">📊 Models & Ensemble</h3>\n",
    "  <ul>\n",
    "    <li>Used <strong>XGBoost</strong>, <strong>LightGBM</strong>, and <strong>CatBoost</strong></li>\n",
    "    <li>Stacked with weighted average: <code>0.4*XGB + 0.35*LGB + 0.25*CAT</code></li>\n",
    "    <li>Cross-validated with 7-fold StratifiedKFold</li>\n",
    "  </ul>\n",
    "\n",
    "  <h3 style=\"color: #004b23; margin-top: 25px;\">📈 Key Results & KPIs</h3>\n",
    "  <ul>\n",
    "    <li>✅ <strong>Average MAP@3:</strong> <code>0.0412 ± 0.0025</code></li>\n",
    "    <li>📌 Target achieved: <span style=\"color: green;\"><strong>✔ SUCCESS</strong></span></li>\n",
    "    <li>🚀 10+ custom features among top 15 in feature importance</li>\n",
    "  </ul>\n",
    "\n",
    "  <h3 style=\"color: #004b23; margin-top: 25px;\">📁 Submission Sample</h3>\n",
    "  <pre style=\"background-color: #f8f9fa; padding: 10px; border-radius: 5px; overflow-x: auto;\">\n",
    "id,Fertilizer Name\n",
    "1001,10-26-26 Urea DAP\n",
    "1002,DAP 14-35-14 Urea\n",
    "1003,28-28 DAP 20-20\n",
    "  </pre>\n",
    "\n",
    "  <h3 style=\"color: #004b23; margin-top: 25px;\">🧠 Next Steps</h3>\n",
    "  <ul>\n",
    "    <li>Try deep learning with embeddings for soil & crop types</li>\n",
    "    <li>Ensemble with neural nets or TabPFN</li>\n",
    "    <li>AutoML baseline comparison</li>\n",
    "  </ul>\n",
    "\n",
    "  <p style=\"margin-top: 30px; font-size: 0.9em; color: #555;\">\n",
    "    Source notebook: <a href=\"#\" target=\"_blank\" rel=\"noopener noreferrer\">[View Full Code]</a>\n",
    "  </p>\n",
    "\n",
    "</div>\n"
   ]
  },
  {
   "cell_type": "markdown",
   "id": "18db9a02",
   "metadata": {
    "papermill": {
     "duration": 0.051011,
     "end_time": "2025-06-04T13:41:40.394221",
     "exception": false,
     "start_time": "2025-06-04T13:41:40.343210",
     "status": "completed"
    },
    "tags": []
   },
   "source": [
    "<div style=\"background-color: white; color: black; padding: 20px; border-radius: 8px; font-family: Arial, sans-serif;\">\n",
    "  <p>🎉 Thank you to everyone who reviewed this far! 🎉</p>\n",
    "  <p>🙏 Thank you so much for your support and interest! 🙏 I am grateful to each and every one of you for taking your valuable time to review this project. I hope the information I provided was useful and everything about the project was as you expected. 🚀</p>\n",
    "  <p>💡 If you have any questions or feedback, please feel free to let me know. 💡</p>\n",
    "  <p>🔗 See you in the next project! 🔗</p>\n",
    "</div>"
   ]
  }
 ],
 "metadata": {
  "kaggle": {
   "accelerator": "gpu",
   "dataSources": [
    {
     "databundleVersionId": 12184666,
     "sourceId": 91717,
     "sourceType": "competition"
    },
    {
     "datasetId": 7269189,
     "sourceId": 11592231,
     "sourceType": "datasetVersion"
    }
   ],
   "dockerImageVersionId": 31041,
   "isGpuEnabled": true,
   "isInternetEnabled": true,
   "language": "python",
   "sourceType": "notebook"
  },
  "kernelspec": {
   "display_name": "Python 3",
   "language": "python",
   "name": "python3"
  },
  "language_info": {
   "codemirror_mode": {
    "name": "ipython",
    "version": 3
   },
   "file_extension": ".py",
   "mimetype": "text/x-python",
   "name": "python",
   "nbconvert_exporter": "python",
   "pygments_lexer": "ipython3",
   "version": "3.11.11"
  },
  "papermill": {
   "default_parameters": {},
   "duration": 1249.67353,
   "end_time": "2025-06-04T13:41:41.219724",
   "environment_variables": {},
   "exception": null,
   "input_path": "__notebook__.ipynb",
   "output_path": "__notebook__.ipynb",
   "parameters": {},
   "start_time": "2025-06-04T13:20:51.546194",
   "version": "2.6.0"
  }
 },
 "nbformat": 4,
 "nbformat_minor": 5
}
